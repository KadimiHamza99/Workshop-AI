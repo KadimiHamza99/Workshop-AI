{
 "cells": [
  {
   "cell_type": "markdown",
   "id": "288ce9a8",
   "metadata": {
    "id": "288ce9a8"
   },
   "source": [
    "# LangChain Basics"
   ]
  },
  {
   "cell_type": "markdown",
   "id": "f2905610-9ad8-43fd-bb28-31a404ea28fe",
   "metadata": {},
   "source": [
    "## Install dependencies"
   ]
  },
  {
   "cell_type": "code",
   "execution_count": 1,
   "id": "002d92f1",
   "metadata": {
    "executionInfo": {
     "elapsed": 6656,
     "status": "ok",
     "timestamp": 1695281250556,
     "user": {
      "displayName": "Andrei Dumitrescu",
      "userId": "04285534149796751164"
     },
     "user_tz": -180
    },
    "id": "002d92f1",
    "scrolled": true
   },
   "outputs": [
    {
     "name": "stdout",
     "output_type": "stream",
     "text": [
      "Requirement already satisfied: langchain in c:\\users\\najib\\onedrive\\bureau\\m2 - dauphine\\workshop-ai\\kadev\\lib\\site-packages (from -r ./requirements.txt (line 2)) (0.1.11)\n",
      "Requirement already satisfied: langchain-core in c:\\users\\najib\\onedrive\\bureau\\m2 - dauphine\\workshop-ai\\kadev\\lib\\site-packages (from -r ./requirements.txt (line 3)) (0.1.29)\n",
      "Requirement already satisfied: langchain_experimental in c:\\users\\najib\\onedrive\\bureau\\m2 - dauphine\\workshop-ai\\kadev\\lib\\site-packages (from -r ./requirements.txt (line 4)) (0.0.53)\n",
      "Requirement already satisfied: pinecone-client in c:\\users\\najib\\onedrive\\bureau\\m2 - dauphine\\workshop-ai\\kadev\\lib\\site-packages (from -r ./requirements.txt (line 5)) (3.1.0)\n",
      "Requirement already satisfied: cohere in c:\\users\\najib\\onedrive\\bureau\\m2 - dauphine\\workshop-ai\\kadev\\lib\\site-packages (from -r ./requirements.txt (line 6)) (4.52)\n",
      "Requirement already satisfied: transformers in c:\\users\\najib\\onedrive\\bureau\\m2 - dauphine\\workshop-ai\\kadev\\lib\\site-packages (from -r ./requirements.txt (line 7)) (4.38.2)\n",
      "Requirement already satisfied: python-dotenv in c:\\users\\najib\\onedrive\\bureau\\m2 - dauphine\\workshop-ai\\kadev\\lib\\site-packages (from -r ./requirements.txt (line 8)) (1.0.1)\n",
      "Requirement already satisfied: torch in c:\\users\\najib\\onedrive\\bureau\\m2 - dauphine\\workshop-ai\\kadev\\lib\\site-packages (from -r ./requirements.txt (line 9)) (2.2.1)\n",
      "Requirement already satisfied: jupyterlab in c:\\users\\najib\\onedrive\\bureau\\m2 - dauphine\\workshop-ai\\kadev\\lib\\site-packages (from -r ./requirements.txt (line 10)) (4.1.3)\n",
      "Requirement already satisfied: PyYAML>=5.3 in c:\\users\\najib\\onedrive\\bureau\\m2 - dauphine\\workshop-ai\\kadev\\lib\\site-packages (from langchain->-r ./requirements.txt (line 2)) (6.0.1)\n",
      "Requirement already satisfied: SQLAlchemy<3,>=1.4 in c:\\users\\najib\\onedrive\\bureau\\m2 - dauphine\\workshop-ai\\kadev\\lib\\site-packages (from langchain->-r ./requirements.txt (line 2)) (2.0.28)\n",
      "Requirement already satisfied: aiohttp<4.0.0,>=3.8.3 in c:\\users\\najib\\onedrive\\bureau\\m2 - dauphine\\workshop-ai\\kadev\\lib\\site-packages (from langchain->-r ./requirements.txt (line 2)) (3.9.3)\n",
      "Requirement already satisfied: dataclasses-json<0.7,>=0.5.7 in c:\\users\\najib\\onedrive\\bureau\\m2 - dauphine\\workshop-ai\\kadev\\lib\\site-packages (from langchain->-r ./requirements.txt (line 2)) (0.6.4)\n",
      "Requirement already satisfied: jsonpatch<2.0,>=1.33 in c:\\users\\najib\\onedrive\\bureau\\m2 - dauphine\\workshop-ai\\kadev\\lib\\site-packages (from langchain->-r ./requirements.txt (line 2)) (1.33)\n",
      "Requirement already satisfied: langchain-community<0.1,>=0.0.25 in c:\\users\\najib\\onedrive\\bureau\\m2 - dauphine\\workshop-ai\\kadev\\lib\\site-packages (from langchain->-r ./requirements.txt (line 2)) (0.0.25)\n",
      "Requirement already satisfied: langchain-text-splitters<0.1,>=0.0.1 in c:\\users\\najib\\onedrive\\bureau\\m2 - dauphine\\workshop-ai\\kadev\\lib\\site-packages (from langchain->-r ./requirements.txt (line 2)) (0.0.1)\n",
      "Requirement already satisfied: langsmith<0.2.0,>=0.1.17 in c:\\users\\najib\\onedrive\\bureau\\m2 - dauphine\\workshop-ai\\kadev\\lib\\site-packages (from langchain->-r ./requirements.txt (line 2)) (0.1.19)\n",
      "Requirement already satisfied: numpy<2,>=1 in c:\\users\\najib\\onedrive\\bureau\\m2 - dauphine\\workshop-ai\\kadev\\lib\\site-packages (from langchain->-r ./requirements.txt (line 2)) (1.26.4)\n",
      "Requirement already satisfied: pydantic<3,>=1 in c:\\users\\najib\\onedrive\\bureau\\m2 - dauphine\\workshop-ai\\kadev\\lib\\site-packages (from langchain->-r ./requirements.txt (line 2)) (2.6.3)\n",
      "Requirement already satisfied: requests<3,>=2 in c:\\users\\najib\\onedrive\\bureau\\m2 - dauphine\\workshop-ai\\kadev\\lib\\site-packages (from langchain->-r ./requirements.txt (line 2)) (2.31.0)\n",
      "Requirement already satisfied: tenacity<9.0.0,>=8.1.0 in c:\\users\\najib\\onedrive\\bureau\\m2 - dauphine\\workshop-ai\\kadev\\lib\\site-packages (from langchain->-r ./requirements.txt (line 2)) (8.2.3)\n",
      "Requirement already satisfied: anyio<5,>=3 in c:\\users\\najib\\onedrive\\bureau\\m2 - dauphine\\workshop-ai\\kadev\\lib\\site-packages (from langchain-core->-r ./requirements.txt (line 3)) (4.3.0)\n",
      "Requirement already satisfied: packaging<24.0,>=23.2 in c:\\users\\najib\\onedrive\\bureau\\m2 - dauphine\\workshop-ai\\kadev\\lib\\site-packages (from langchain-core->-r ./requirements.txt (line 3)) (23.2)\n",
      "Requirement already satisfied: certifi>=2019.11.17 in c:\\users\\najib\\onedrive\\bureau\\m2 - dauphine\\workshop-ai\\kadev\\lib\\site-packages (from pinecone-client->-r ./requirements.txt (line 5)) (2024.2.2)\n",
      "Requirement already satisfied: tqdm>=4.64.1 in c:\\users\\najib\\onedrive\\bureau\\m2 - dauphine\\workshop-ai\\kadev\\lib\\site-packages (from pinecone-client->-r ./requirements.txt (line 5)) (4.66.2)\n",
      "Requirement already satisfied: typing-extensions>=3.7.4 in c:\\users\\najib\\onedrive\\bureau\\m2 - dauphine\\workshop-ai\\kadev\\lib\\site-packages (from pinecone-client->-r ./requirements.txt (line 5)) (4.10.0)\n",
      "Requirement already satisfied: urllib3>=1.26.5 in c:\\users\\najib\\onedrive\\bureau\\m2 - dauphine\\workshop-ai\\kadev\\lib\\site-packages (from pinecone-client->-r ./requirements.txt (line 5)) (2.2.1)\n",
      "Requirement already satisfied: backoff<3.0,>=2.0 in c:\\users\\najib\\onedrive\\bureau\\m2 - dauphine\\workshop-ai\\kadev\\lib\\site-packages (from cohere->-r ./requirements.txt (line 6)) (2.2.1)\n",
      "Requirement already satisfied: fastavro<2.0,>=1.8 in c:\\users\\najib\\onedrive\\bureau\\m2 - dauphine\\workshop-ai\\kadev\\lib\\site-packages (from cohere->-r ./requirements.txt (line 6)) (1.9.4)\n",
      "Requirement already satisfied: importlib_metadata<7.0,>=6.0 in c:\\users\\najib\\onedrive\\bureau\\m2 - dauphine\\workshop-ai\\kadev\\lib\\site-packages (from cohere->-r ./requirements.txt (line 6)) (6.11.0)\n",
      "Requirement already satisfied: filelock in c:\\users\\najib\\onedrive\\bureau\\m2 - dauphine\\workshop-ai\\kadev\\lib\\site-packages (from transformers->-r ./requirements.txt (line 7)) (3.13.1)\n",
      "Requirement already satisfied: huggingface-hub<1.0,>=0.19.3 in c:\\users\\najib\\onedrive\\bureau\\m2 - dauphine\\workshop-ai\\kadev\\lib\\site-packages (from transformers->-r ./requirements.txt (line 7)) (0.21.3)\n",
      "Requirement already satisfied: regex!=2019.12.17 in c:\\users\\najib\\onedrive\\bureau\\m2 - dauphine\\workshop-ai\\kadev\\lib\\site-packages (from transformers->-r ./requirements.txt (line 7)) (2023.12.25)\n",
      "Requirement already satisfied: tokenizers<0.19,>=0.14 in c:\\users\\najib\\onedrive\\bureau\\m2 - dauphine\\workshop-ai\\kadev\\lib\\site-packages (from transformers->-r ./requirements.txt (line 7)) (0.15.2)\n",
      "Requirement already satisfied: safetensors>=0.4.1 in c:\\users\\najib\\onedrive\\bureau\\m2 - dauphine\\workshop-ai\\kadev\\lib\\site-packages (from transformers->-r ./requirements.txt (line 7)) (0.4.2)\n",
      "Requirement already satisfied: sympy in c:\\users\\najib\\onedrive\\bureau\\m2 - dauphine\\workshop-ai\\kadev\\lib\\site-packages (from torch->-r ./requirements.txt (line 9)) (1.12)\n",
      "Requirement already satisfied: networkx in c:\\users\\najib\\onedrive\\bureau\\m2 - dauphine\\workshop-ai\\kadev\\lib\\site-packages (from torch->-r ./requirements.txt (line 9)) (3.2.1)\n",
      "Requirement already satisfied: jinja2 in c:\\users\\najib\\onedrive\\bureau\\m2 - dauphine\\workshop-ai\\kadev\\lib\\site-packages (from torch->-r ./requirements.txt (line 9)) (3.1.3)\n",
      "Requirement already satisfied: fsspec in c:\\users\\najib\\onedrive\\bureau\\m2 - dauphine\\workshop-ai\\kadev\\lib\\site-packages (from torch->-r ./requirements.txt (line 9)) (2024.2.0)\n",
      "Requirement already satisfied: async-lru>=1.0.0 in c:\\users\\najib\\onedrive\\bureau\\m2 - dauphine\\workshop-ai\\kadev\\lib\\site-packages (from jupyterlab->-r ./requirements.txt (line 10)) (2.0.4)\n",
      "Requirement already satisfied: httpx>=0.25.0 in c:\\users\\najib\\onedrive\\bureau\\m2 - dauphine\\workshop-ai\\kadev\\lib\\site-packages (from jupyterlab->-r ./requirements.txt (line 10)) (0.27.0)\n",
      "Requirement already satisfied: ipykernel in c:\\users\\najib\\onedrive\\bureau\\m2 - dauphine\\workshop-ai\\kadev\\lib\\site-packages (from jupyterlab->-r ./requirements.txt (line 10)) (6.29.3)\n",
      "Requirement already satisfied: jupyter-core in c:\\users\\najib\\onedrive\\bureau\\m2 - dauphine\\workshop-ai\\kadev\\lib\\site-packages (from jupyterlab->-r ./requirements.txt (line 10)) (5.7.1)\n",
      "Requirement already satisfied: jupyter-lsp>=2.0.0 in c:\\users\\najib\\onedrive\\bureau\\m2 - dauphine\\workshop-ai\\kadev\\lib\\site-packages (from jupyterlab->-r ./requirements.txt (line 10)) (2.2.4)\n",
      "Requirement already satisfied: jupyter-server<3,>=2.4.0 in c:\\users\\najib\\onedrive\\bureau\\m2 - dauphine\\workshop-ai\\kadev\\lib\\site-packages (from jupyterlab->-r ./requirements.txt (line 10)) (2.13.0)\n",
      "Requirement already satisfied: jupyterlab-server<3,>=2.19.0 in c:\\users\\najib\\onedrive\\bureau\\m2 - dauphine\\workshop-ai\\kadev\\lib\\site-packages (from jupyterlab->-r ./requirements.txt (line 10)) (2.25.3)\n",
      "Requirement already satisfied: notebook-shim>=0.2 in c:\\users\\najib\\onedrive\\bureau\\m2 - dauphine\\workshop-ai\\kadev\\lib\\site-packages (from jupyterlab->-r ./requirements.txt (line 10)) (0.2.4)\n",
      "Requirement already satisfied: tornado>=6.2.0 in c:\\users\\najib\\onedrive\\bureau\\m2 - dauphine\\workshop-ai\\kadev\\lib\\site-packages (from jupyterlab->-r ./requirements.txt (line 10)) (6.4)\n",
      "Requirement already satisfied: traitlets in c:\\users\\najib\\onedrive\\bureau\\m2 - dauphine\\workshop-ai\\kadev\\lib\\site-packages (from jupyterlab->-r ./requirements.txt (line 10)) (5.14.1)\n",
      "Requirement already satisfied: aiosignal>=1.1.2 in c:\\users\\najib\\onedrive\\bureau\\m2 - dauphine\\workshop-ai\\kadev\\lib\\site-packages (from aiohttp<4.0.0,>=3.8.3->langchain->-r ./requirements.txt (line 2)) (1.3.1)\n",
      "Requirement already satisfied: attrs>=17.3.0 in c:\\users\\najib\\onedrive\\bureau\\m2 - dauphine\\workshop-ai\\kadev\\lib\\site-packages (from aiohttp<4.0.0,>=3.8.3->langchain->-r ./requirements.txt (line 2)) (23.2.0)\n",
      "Requirement already satisfied: frozenlist>=1.1.1 in c:\\users\\najib\\onedrive\\bureau\\m2 - dauphine\\workshop-ai\\kadev\\lib\\site-packages (from aiohttp<4.0.0,>=3.8.3->langchain->-r ./requirements.txt (line 2)) (1.4.1)\n",
      "Requirement already satisfied: multidict<7.0,>=4.5 in c:\\users\\najib\\onedrive\\bureau\\m2 - dauphine\\workshop-ai\\kadev\\lib\\site-packages (from aiohttp<4.0.0,>=3.8.3->langchain->-r ./requirements.txt (line 2)) (6.0.5)\n",
      "Requirement already satisfied: yarl<2.0,>=1.0 in c:\\users\\najib\\onedrive\\bureau\\m2 - dauphine\\workshop-ai\\kadev\\lib\\site-packages (from aiohttp<4.0.0,>=3.8.3->langchain->-r ./requirements.txt (line 2)) (1.9.4)\n",
      "Requirement already satisfied: idna>=2.8 in c:\\users\\najib\\onedrive\\bureau\\m2 - dauphine\\workshop-ai\\kadev\\lib\\site-packages (from anyio<5,>=3->langchain-core->-r ./requirements.txt (line 3)) (3.6)\n",
      "Requirement already satisfied: sniffio>=1.1 in c:\\users\\najib\\onedrive\\bureau\\m2 - dauphine\\workshop-ai\\kadev\\lib\\site-packages (from anyio<5,>=3->langchain-core->-r ./requirements.txt (line 3)) (1.3.1)\n",
      "Requirement already satisfied: marshmallow<4.0.0,>=3.18.0 in c:\\users\\najib\\onedrive\\bureau\\m2 - dauphine\\workshop-ai\\kadev\\lib\\site-packages (from dataclasses-json<0.7,>=0.5.7->langchain->-r ./requirements.txt (line 2)) (3.21.1)\n",
      "Requirement already satisfied: typing-inspect<1,>=0.4.0 in c:\\users\\najib\\onedrive\\bureau\\m2 - dauphine\\workshop-ai\\kadev\\lib\\site-packages (from dataclasses-json<0.7,>=0.5.7->langchain->-r ./requirements.txt (line 2)) (0.9.0)\n",
      "Requirement already satisfied: httpcore==1.* in c:\\users\\najib\\onedrive\\bureau\\m2 - dauphine\\workshop-ai\\kadev\\lib\\site-packages (from httpx>=0.25.0->jupyterlab->-r ./requirements.txt (line 10)) (1.0.4)\n",
      "Requirement already satisfied: h11<0.15,>=0.13 in c:\\users\\najib\\onedrive\\bureau\\m2 - dauphine\\workshop-ai\\kadev\\lib\\site-packages (from httpcore==1.*->httpx>=0.25.0->jupyterlab->-r ./requirements.txt (line 10)) (0.14.0)\n",
      "Requirement already satisfied: zipp>=0.5 in c:\\users\\najib\\onedrive\\bureau\\m2 - dauphine\\workshop-ai\\kadev\\lib\\site-packages (from importlib_metadata<7.0,>=6.0->cohere->-r ./requirements.txt (line 6)) (3.17.0)\n",
      "Requirement already satisfied: MarkupSafe>=2.0 in c:\\users\\najib\\onedrive\\bureau\\m2 - dauphine\\workshop-ai\\kadev\\lib\\site-packages (from jinja2->torch->-r ./requirements.txt (line 9)) (2.1.5)\n",
      "Requirement already satisfied: jsonpointer>=1.9 in c:\\users\\najib\\onedrive\\bureau\\m2 - dauphine\\workshop-ai\\kadev\\lib\\site-packages (from jsonpatch<2.0,>=1.33->langchain->-r ./requirements.txt (line 2)) (2.4)\n",
      "Requirement already satisfied: argon2-cffi in c:\\users\\najib\\onedrive\\bureau\\m2 - dauphine\\workshop-ai\\kadev\\lib\\site-packages (from jupyter-server<3,>=2.4.0->jupyterlab->-r ./requirements.txt (line 10)) (23.1.0)\n",
      "Requirement already satisfied: jupyter-client>=7.4.4 in c:\\users\\najib\\onedrive\\bureau\\m2 - dauphine\\workshop-ai\\kadev\\lib\\site-packages (from jupyter-server<3,>=2.4.0->jupyterlab->-r ./requirements.txt (line 10)) (8.6.0)\n",
      "Requirement already satisfied: jupyter-events>=0.9.0 in c:\\users\\najib\\onedrive\\bureau\\m2 - dauphine\\workshop-ai\\kadev\\lib\\site-packages (from jupyter-server<3,>=2.4.0->jupyterlab->-r ./requirements.txt (line 10)) (0.9.0)\n",
      "Requirement already satisfied: jupyter-server-terminals in c:\\users\\najib\\onedrive\\bureau\\m2 - dauphine\\workshop-ai\\kadev\\lib\\site-packages (from jupyter-server<3,>=2.4.0->jupyterlab->-r ./requirements.txt (line 10)) (0.5.2)\n",
      "Requirement already satisfied: nbconvert>=6.4.4 in c:\\users\\najib\\onedrive\\bureau\\m2 - dauphine\\workshop-ai\\kadev\\lib\\site-packages (from jupyter-server<3,>=2.4.0->jupyterlab->-r ./requirements.txt (line 10)) (7.16.2)\n",
      "Requirement already satisfied: nbformat>=5.3.0 in c:\\users\\najib\\onedrive\\bureau\\m2 - dauphine\\workshop-ai\\kadev\\lib\\site-packages (from jupyter-server<3,>=2.4.0->jupyterlab->-r ./requirements.txt (line 10)) (5.9.2)\n",
      "Requirement already satisfied: overrides in c:\\users\\najib\\onedrive\\bureau\\m2 - dauphine\\workshop-ai\\kadev\\lib\\site-packages (from jupyter-server<3,>=2.4.0->jupyterlab->-r ./requirements.txt (line 10)) (7.7.0)\n",
      "Requirement already satisfied: prometheus-client in c:\\users\\najib\\onedrive\\bureau\\m2 - dauphine\\workshop-ai\\kadev\\lib\\site-packages (from jupyter-server<3,>=2.4.0->jupyterlab->-r ./requirements.txt (line 10)) (0.20.0)\n",
      "Requirement already satisfied: pywinpty in c:\\users\\najib\\onedrive\\bureau\\m2 - dauphine\\workshop-ai\\kadev\\lib\\site-packages (from jupyter-server<3,>=2.4.0->jupyterlab->-r ./requirements.txt (line 10)) (2.0.13)\n",
      "Requirement already satisfied: pyzmq>=24 in c:\\users\\najib\\onedrive\\bureau\\m2 - dauphine\\workshop-ai\\kadev\\lib\\site-packages (from jupyter-server<3,>=2.4.0->jupyterlab->-r ./requirements.txt (line 10)) (25.1.2)\n",
      "Requirement already satisfied: send2trash>=1.8.2 in c:\\users\\najib\\onedrive\\bureau\\m2 - dauphine\\workshop-ai\\kadev\\lib\\site-packages (from jupyter-server<3,>=2.4.0->jupyterlab->-r ./requirements.txt (line 10)) (1.8.2)\n",
      "Requirement already satisfied: terminado>=0.8.3 in c:\\users\\najib\\onedrive\\bureau\\m2 - dauphine\\workshop-ai\\kadev\\lib\\site-packages (from jupyter-server<3,>=2.4.0->jupyterlab->-r ./requirements.txt (line 10)) (0.18.0)\n",
      "Requirement already satisfied: websocket-client in c:\\users\\najib\\onedrive\\bureau\\m2 - dauphine\\workshop-ai\\kadev\\lib\\site-packages (from jupyter-server<3,>=2.4.0->jupyterlab->-r ./requirements.txt (line 10)) (1.7.0)\n",
      "Requirement already satisfied: platformdirs>=2.5 in c:\\users\\najib\\onedrive\\bureau\\m2 - dauphine\\workshop-ai\\kadev\\lib\\site-packages (from jupyter-core->jupyterlab->-r ./requirements.txt (line 10)) (4.2.0)\n",
      "Requirement already satisfied: pywin32>=300 in c:\\users\\najib\\onedrive\\bureau\\m2 - dauphine\\workshop-ai\\kadev\\lib\\site-packages (from jupyter-core->jupyterlab->-r ./requirements.txt (line 10)) (306)\n",
      "Requirement already satisfied: babel>=2.10 in c:\\users\\najib\\onedrive\\bureau\\m2 - dauphine\\workshop-ai\\kadev\\lib\\site-packages (from jupyterlab-server<3,>=2.19.0->jupyterlab->-r ./requirements.txt (line 10)) (2.14.0)\n",
      "Requirement already satisfied: json5>=0.9.0 in c:\\users\\najib\\onedrive\\bureau\\m2 - dauphine\\workshop-ai\\kadev\\lib\\site-packages (from jupyterlab-server<3,>=2.19.0->jupyterlab->-r ./requirements.txt (line 10)) (0.9.20)\n",
      "Requirement already satisfied: jsonschema>=4.18.0 in c:\\users\\najib\\onedrive\\bureau\\m2 - dauphine\\workshop-ai\\kadev\\lib\\site-packages (from jupyterlab-server<3,>=2.19.0->jupyterlab->-r ./requirements.txt (line 10)) (4.21.1)\n",
      "Requirement already satisfied: orjson<4.0.0,>=3.9.14 in c:\\users\\najib\\onedrive\\bureau\\m2 - dauphine\\workshop-ai\\kadev\\lib\\site-packages (from langsmith<0.2.0,>=0.1.17->langchain->-r ./requirements.txt (line 2)) (3.9.15)\n",
      "Requirement already satisfied: annotated-types>=0.4.0 in c:\\users\\najib\\onedrive\\bureau\\m2 - dauphine\\workshop-ai\\kadev\\lib\\site-packages (from pydantic<3,>=1->langchain->-r ./requirements.txt (line 2)) (0.6.0)\n",
      "Requirement already satisfied: pydantic-core==2.16.3 in c:\\users\\najib\\onedrive\\bureau\\m2 - dauphine\\workshop-ai\\kadev\\lib\\site-packages (from pydantic<3,>=1->langchain->-r ./requirements.txt (line 2)) (2.16.3)\n",
      "Requirement already satisfied: charset-normalizer<4,>=2 in c:\\users\\najib\\onedrive\\bureau\\m2 - dauphine\\workshop-ai\\kadev\\lib\\site-packages (from requests<3,>=2->langchain->-r ./requirements.txt (line 2)) (3.3.2)\n",
      "Requirement already satisfied: greenlet!=0.4.17 in c:\\users\\najib\\onedrive\\bureau\\m2 - dauphine\\workshop-ai\\kadev\\lib\\site-packages (from SQLAlchemy<3,>=1.4->langchain->-r ./requirements.txt (line 2)) (3.0.3)\n",
      "Requirement already satisfied: colorama in c:\\users\\najib\\onedrive\\bureau\\m2 - dauphine\\workshop-ai\\kadev\\lib\\site-packages (from tqdm>=4.64.1->pinecone-client->-r ./requirements.txt (line 5)) (0.4.6)\n",
      "Requirement already satisfied: comm>=0.1.1 in c:\\users\\najib\\onedrive\\bureau\\m2 - dauphine\\workshop-ai\\kadev\\lib\\site-packages (from ipykernel->jupyterlab->-r ./requirements.txt (line 10)) (0.2.1)\n",
      "Requirement already satisfied: debugpy>=1.6.5 in c:\\users\\najib\\onedrive\\bureau\\m2 - dauphine\\workshop-ai\\kadev\\lib\\site-packages (from ipykernel->jupyterlab->-r ./requirements.txt (line 10)) (1.8.1)\n",
      "Requirement already satisfied: ipython>=7.23.1 in c:\\users\\najib\\onedrive\\bureau\\m2 - dauphine\\workshop-ai\\kadev\\lib\\site-packages (from ipykernel->jupyterlab->-r ./requirements.txt (line 10)) (8.22.2)\n",
      "Requirement already satisfied: matplotlib-inline>=0.1 in c:\\users\\najib\\onedrive\\bureau\\m2 - dauphine\\workshop-ai\\kadev\\lib\\site-packages (from ipykernel->jupyterlab->-r ./requirements.txt (line 10)) (0.1.6)\n",
      "Requirement already satisfied: nest-asyncio in c:\\users\\najib\\onedrive\\bureau\\m2 - dauphine\\workshop-ai\\kadev\\lib\\site-packages (from ipykernel->jupyterlab->-r ./requirements.txt (line 10)) (1.6.0)\n",
      "Requirement already satisfied: psutil in c:\\users\\najib\\onedrive\\bureau\\m2 - dauphine\\workshop-ai\\kadev\\lib\\site-packages (from ipykernel->jupyterlab->-r ./requirements.txt (line 10)) (5.9.8)\n",
      "Requirement already satisfied: mpmath>=0.19 in c:\\users\\najib\\onedrive\\bureau\\m2 - dauphine\\workshop-ai\\kadev\\lib\\site-packages (from sympy->torch->-r ./requirements.txt (line 9)) (1.3.0)\n",
      "Requirement already satisfied: decorator in c:\\users\\najib\\onedrive\\bureau\\m2 - dauphine\\workshop-ai\\kadev\\lib\\site-packages (from ipython>=7.23.1->ipykernel->jupyterlab->-r ./requirements.txt (line 10)) (5.1.1)\n",
      "Requirement already satisfied: jedi>=0.16 in c:\\users\\najib\\onedrive\\bureau\\m2 - dauphine\\workshop-ai\\kadev\\lib\\site-packages (from ipython>=7.23.1->ipykernel->jupyterlab->-r ./requirements.txt (line 10)) (0.19.1)\n",
      "Requirement already satisfied: prompt-toolkit<3.1.0,>=3.0.41 in c:\\users\\najib\\onedrive\\bureau\\m2 - dauphine\\workshop-ai\\kadev\\lib\\site-packages (from ipython>=7.23.1->ipykernel->jupyterlab->-r ./requirements.txt (line 10)) (3.0.43)\n",
      "Requirement already satisfied: pygments>=2.4.0 in c:\\users\\najib\\onedrive\\bureau\\m2 - dauphine\\workshop-ai\\kadev\\lib\\site-packages (from ipython>=7.23.1->ipykernel->jupyterlab->-r ./requirements.txt (line 10)) (2.17.2)\n",
      "Requirement already satisfied: stack-data in c:\\users\\najib\\onedrive\\bureau\\m2 - dauphine\\workshop-ai\\kadev\\lib\\site-packages (from ipython>=7.23.1->ipykernel->jupyterlab->-r ./requirements.txt (line 10)) (0.6.3)\n",
      "Requirement already satisfied: jsonschema-specifications>=2023.03.6 in c:\\users\\najib\\onedrive\\bureau\\m2 - dauphine\\workshop-ai\\kadev\\lib\\site-packages (from jsonschema>=4.18.0->jupyterlab-server<3,>=2.19.0->jupyterlab->-r ./requirements.txt (line 10)) (2023.12.1)\n",
      "Requirement already satisfied: referencing>=0.28.4 in c:\\users\\najib\\onedrive\\bureau\\m2 - dauphine\\workshop-ai\\kadev\\lib\\site-packages (from jsonschema>=4.18.0->jupyterlab-server<3,>=2.19.0->jupyterlab->-r ./requirements.txt (line 10)) (0.33.0)\n",
      "Requirement already satisfied: rpds-py>=0.7.1 in c:\\users\\najib\\onedrive\\bureau\\m2 - dauphine\\workshop-ai\\kadev\\lib\\site-packages (from jsonschema>=4.18.0->jupyterlab-server<3,>=2.19.0->jupyterlab->-r ./requirements.txt (line 10)) (0.18.0)\n",
      "Requirement already satisfied: python-dateutil>=2.8.2 in c:\\users\\najib\\onedrive\\bureau\\m2 - dauphine\\workshop-ai\\kadev\\lib\\site-packages (from jupyter-client>=7.4.4->jupyter-server<3,>=2.4.0->jupyterlab->-r ./requirements.txt (line 10)) (2.9.0.post0)\n",
      "Requirement already satisfied: python-json-logger>=2.0.4 in c:\\users\\najib\\onedrive\\bureau\\m2 - dauphine\\workshop-ai\\kadev\\lib\\site-packages (from jupyter-events>=0.9.0->jupyter-server<3,>=2.4.0->jupyterlab->-r ./requirements.txt (line 10)) (2.0.7)\n",
      "Requirement already satisfied: rfc3339-validator in c:\\users\\najib\\onedrive\\bureau\\m2 - dauphine\\workshop-ai\\kadev\\lib\\site-packages (from jupyter-events>=0.9.0->jupyter-server<3,>=2.4.0->jupyterlab->-r ./requirements.txt (line 10)) (0.1.4)\n",
      "Requirement already satisfied: rfc3986-validator>=0.1.1 in c:\\users\\najib\\onedrive\\bureau\\m2 - dauphine\\workshop-ai\\kadev\\lib\\site-packages (from jupyter-events>=0.9.0->jupyter-server<3,>=2.4.0->jupyterlab->-r ./requirements.txt (line 10)) (0.1.1)\n",
      "Requirement already satisfied: beautifulsoup4 in c:\\users\\najib\\onedrive\\bureau\\m2 - dauphine\\workshop-ai\\kadev\\lib\\site-packages (from nbconvert>=6.4.4->jupyter-server<3,>=2.4.0->jupyterlab->-r ./requirements.txt (line 10)) (4.12.3)\n",
      "Requirement already satisfied: bleach!=5.0.0 in c:\\users\\najib\\onedrive\\bureau\\m2 - dauphine\\workshop-ai\\kadev\\lib\\site-packages (from nbconvert>=6.4.4->jupyter-server<3,>=2.4.0->jupyterlab->-r ./requirements.txt (line 10)) (6.1.0)\n",
      "Requirement already satisfied: defusedxml in c:\\users\\najib\\onedrive\\bureau\\m2 - dauphine\\workshop-ai\\kadev\\lib\\site-packages (from nbconvert>=6.4.4->jupyter-server<3,>=2.4.0->jupyterlab->-r ./requirements.txt (line 10)) (0.7.1)\n",
      "Requirement already satisfied: jupyterlab-pygments in c:\\users\\najib\\onedrive\\bureau\\m2 - dauphine\\workshop-ai\\kadev\\lib\\site-packages (from nbconvert>=6.4.4->jupyter-server<3,>=2.4.0->jupyterlab->-r ./requirements.txt (line 10)) (0.3.0)\n",
      "Requirement already satisfied: mistune<4,>=2.0.3 in c:\\users\\najib\\onedrive\\bureau\\m2 - dauphine\\workshop-ai\\kadev\\lib\\site-packages (from nbconvert>=6.4.4->jupyter-server<3,>=2.4.0->jupyterlab->-r ./requirements.txt (line 10)) (3.0.2)\n",
      "Requirement already satisfied: nbclient>=0.5.0 in c:\\users\\najib\\onedrive\\bureau\\m2 - dauphine\\workshop-ai\\kadev\\lib\\site-packages (from nbconvert>=6.4.4->jupyter-server<3,>=2.4.0->jupyterlab->-r ./requirements.txt (line 10)) (0.9.0)\n",
      "Requirement already satisfied: pandocfilters>=1.4.1 in c:\\users\\najib\\onedrive\\bureau\\m2 - dauphine\\workshop-ai\\kadev\\lib\\site-packages (from nbconvert>=6.4.4->jupyter-server<3,>=2.4.0->jupyterlab->-r ./requirements.txt (line 10)) (1.5.1)\n",
      "Requirement already satisfied: tinycss2 in c:\\users\\najib\\onedrive\\bureau\\m2 - dauphine\\workshop-ai\\kadev\\lib\\site-packages (from nbconvert>=6.4.4->jupyter-server<3,>=2.4.0->jupyterlab->-r ./requirements.txt (line 10)) (1.2.1)\n",
      "Requirement already satisfied: fastjsonschema in c:\\users\\najib\\onedrive\\bureau\\m2 - dauphine\\workshop-ai\\kadev\\lib\\site-packages (from nbformat>=5.3.0->jupyter-server<3,>=2.4.0->jupyterlab->-r ./requirements.txt (line 10)) (2.19.1)\n",
      "Requirement already satisfied: mypy-extensions>=0.3.0 in c:\\users\\najib\\onedrive\\bureau\\m2 - dauphine\\workshop-ai\\kadev\\lib\\site-packages (from typing-inspect<1,>=0.4.0->dataclasses-json<0.7,>=0.5.7->langchain->-r ./requirements.txt (line 2)) (1.0.0)\n",
      "Requirement already satisfied: argon2-cffi-bindings in c:\\users\\najib\\onedrive\\bureau\\m2 - dauphine\\workshop-ai\\kadev\\lib\\site-packages (from argon2-cffi->jupyter-server<3,>=2.4.0->jupyterlab->-r ./requirements.txt (line 10)) (21.2.0)\n",
      "Requirement already satisfied: six>=1.9.0 in c:\\users\\najib\\onedrive\\bureau\\m2 - dauphine\\workshop-ai\\kadev\\lib\\site-packages (from bleach!=5.0.0->nbconvert>=6.4.4->jupyter-server<3,>=2.4.0->jupyterlab->-r ./requirements.txt (line 10)) (1.16.0)\n",
      "Requirement already satisfied: webencodings in c:\\users\\najib\\onedrive\\bureau\\m2 - dauphine\\workshop-ai\\kadev\\lib\\site-packages (from bleach!=5.0.0->nbconvert>=6.4.4->jupyter-server<3,>=2.4.0->jupyterlab->-r ./requirements.txt (line 10)) (0.5.1)\n",
      "Requirement already satisfied: parso<0.9.0,>=0.8.3 in c:\\users\\najib\\onedrive\\bureau\\m2 - dauphine\\workshop-ai\\kadev\\lib\\site-packages (from jedi>=0.16->ipython>=7.23.1->ipykernel->jupyterlab->-r ./requirements.txt (line 10)) (0.8.3)\n",
      "Requirement already satisfied: fqdn in c:\\users\\najib\\onedrive\\bureau\\m2 - dauphine\\workshop-ai\\kadev\\lib\\site-packages (from jsonschema>=4.18.0->jupyterlab-server<3,>=2.19.0->jupyterlab->-r ./requirements.txt (line 10)) (1.5.1)\n",
      "Requirement already satisfied: isoduration in c:\\users\\najib\\onedrive\\bureau\\m2 - dauphine\\workshop-ai\\kadev\\lib\\site-packages (from jsonschema>=4.18.0->jupyterlab-server<3,>=2.19.0->jupyterlab->-r ./requirements.txt (line 10)) (20.11.0)\n",
      "Requirement already satisfied: uri-template in c:\\users\\najib\\onedrive\\bureau\\m2 - dauphine\\workshop-ai\\kadev\\lib\\site-packages (from jsonschema>=4.18.0->jupyterlab-server<3,>=2.19.0->jupyterlab->-r ./requirements.txt (line 10)) (1.3.0)\n",
      "Requirement already satisfied: webcolors>=1.11 in c:\\users\\najib\\onedrive\\bureau\\m2 - dauphine\\workshop-ai\\kadev\\lib\\site-packages (from jsonschema>=4.18.0->jupyterlab-server<3,>=2.19.0->jupyterlab->-r ./requirements.txt (line 10)) (1.13)\n",
      "Requirement already satisfied: wcwidth in c:\\users\\najib\\onedrive\\bureau\\m2 - dauphine\\workshop-ai\\kadev\\lib\\site-packages (from prompt-toolkit<3.1.0,>=3.0.41->ipython>=7.23.1->ipykernel->jupyterlab->-r ./requirements.txt (line 10)) (0.2.13)\n",
      "Requirement already satisfied: cffi>=1.0.1 in c:\\users\\najib\\onedrive\\bureau\\m2 - dauphine\\workshop-ai\\kadev\\lib\\site-packages (from argon2-cffi-bindings->argon2-cffi->jupyter-server<3,>=2.4.0->jupyterlab->-r ./requirements.txt (line 10)) (1.16.0)\n",
      "Requirement already satisfied: soupsieve>1.2 in c:\\users\\najib\\onedrive\\bureau\\m2 - dauphine\\workshop-ai\\kadev\\lib\\site-packages (from beautifulsoup4->nbconvert>=6.4.4->jupyter-server<3,>=2.4.0->jupyterlab->-r ./requirements.txt (line 10)) (2.5)\n",
      "Requirement already satisfied: executing>=1.2.0 in c:\\users\\najib\\onedrive\\bureau\\m2 - dauphine\\workshop-ai\\kadev\\lib\\site-packages (from stack-data->ipython>=7.23.1->ipykernel->jupyterlab->-r ./requirements.txt (line 10)) (2.0.1)\n",
      "Requirement already satisfied: asttokens>=2.1.0 in c:\\users\\najib\\onedrive\\bureau\\m2 - dauphine\\workshop-ai\\kadev\\lib\\site-packages (from stack-data->ipython>=7.23.1->ipykernel->jupyterlab->-r ./requirements.txt (line 10)) (2.4.1)\n",
      "Requirement already satisfied: pure-eval in c:\\users\\najib\\onedrive\\bureau\\m2 - dauphine\\workshop-ai\\kadev\\lib\\site-packages (from stack-data->ipython>=7.23.1->ipykernel->jupyterlab->-r ./requirements.txt (line 10)) (0.2.2)\n",
      "Requirement already satisfied: pycparser in c:\\users\\najib\\onedrive\\bureau\\m2 - dauphine\\workshop-ai\\kadev\\lib\\site-packages (from cffi>=1.0.1->argon2-cffi-bindings->argon2-cffi->jupyter-server<3,>=2.4.0->jupyterlab->-r ./requirements.txt (line 10)) (2.21)\n",
      "Requirement already satisfied: arrow>=0.15.0 in c:\\users\\najib\\onedrive\\bureau\\m2 - dauphine\\workshop-ai\\kadev\\lib\\site-packages (from isoduration->jsonschema>=4.18.0->jupyterlab-server<3,>=2.19.0->jupyterlab->-r ./requirements.txt (line 10)) (1.3.0)\n",
      "Requirement already satisfied: types-python-dateutil>=2.8.10 in c:\\users\\najib\\onedrive\\bureau\\m2 - dauphine\\workshop-ai\\kadev\\lib\\site-packages (from arrow>=0.15.0->isoduration->jsonschema>=4.18.0->jupyterlab-server<3,>=2.19.0->jupyterlab->-r ./requirements.txt (line 10)) (2.8.19.20240106)\n",
      "Note: you may need to restart the kernel to use updated packages.\n"
     ]
    },
    {
     "name": "stderr",
     "output_type": "stream",
     "text": [
      "\n",
      "[notice] A new release of pip is available: 23.2.1 -> 24.0\n",
      "[notice] To update, run: python.exe -m pip install --upgrade pip\n"
     ]
    }
   ],
   "source": [
    "pip install -r ./requirements.txt"
   ]
  },
  {
   "cell_type": "markdown",
   "id": "3534918b-a514-4df1-b7eb-21e5f9f94d11",
   "metadata": {},
   "source": [
    "### Verify if LangChain is installed"
   ]
  },
  {
   "cell_type": "code",
   "execution_count": 3,
   "id": "bdf2f431",
   "metadata": {
    "colab": {
     "base_uri": "https://localhost:8080/"
    },
    "executionInfo": {
     "elapsed": 4913,
     "status": "ok",
     "timestamp": 1695281268475,
     "user": {
      "displayName": "Andrei Dumitrescu",
      "userId": "04285534149796751164"
     },
     "user_tz": -180
    },
    "id": "bdf2f431",
    "outputId": "01809e7f-0539-4eae-b6af-19117ab595eb",
    "scrolled": true
   },
   "outputs": [
    {
     "name": "stdout",
     "output_type": "stream",
     "text": [
      "Name: langchain\n",
      "Version: 0.1.11\n",
      "Summary: Building applications with LLMs through composability\n",
      "Home-page: https://github.com/langchain-ai/langchain\n",
      "Author: \n",
      "Author-email: \n",
      "License: MIT\n",
      "Location: C:\\Users\\najib\\OneDrive\\Bureau\\M2 - Dauphine\\Workshop-AI\\kadev\\Lib\\site-packages\n",
      "Requires: aiohttp, dataclasses-json, jsonpatch, langchain-community, langchain-core, langchain-text-splitters, langsmith, numpy, pydantic, PyYAML, requests, SQLAlchemy, tenacity\n",
      "Required-by: langchain-experimental\n",
      "Note: you may need to restart the kernel to use updated packages.\n"
     ]
    }
   ],
   "source": [
    "pip show langchain"
   ]
  },
  {
   "cell_type": "markdown",
   "id": "f4407a3a",
   "metadata": {
    "id": "f4407a3a"
   },
   "source": [
    "#### Python-dotenv"
   ]
  },
  {
   "cell_type": "code",
   "execution_count": 2,
   "id": "d9420415",
   "metadata": {
    "id": "d9420415",
    "outputId": "0e64cc2d-6d74-41b7-a8c2-b311e2b72ebc",
    "scrolled": true
   },
   "outputs": [
    {
     "name": "stdout",
     "output_type": "stream",
     "text": [
      "bfQvCnd1eEA0NIbTXRYBJfSADORMaXKmEz7iFir8\n"
     ]
    }
   ],
   "source": [
    "import os\n",
    "from dotenv import load_dotenv, find_dotenv\n",
    "\n",
    "# loading the API Keys (Cohere, Pinecone) from .env \n",
    "load_dotenv(find_dotenv(), override=True)\n",
    "\n",
    "COHERE_API_KEY = os.environ.get('COHERE_API_KEY')\n",
    "print(COHERE_API_KEY)"
   ]
  },
  {
   "cell_type": "markdown",
   "id": "46e63e31-28ad-4d89-866f-238f818c4315",
   "metadata": {},
   "source": [
    "## Early Experimentation with LLMs Using LangChain "
   ]
  },
  {
   "cell_type": "markdown",
   "id": "975fc78c-0143-4c44-91a9-d89c609f484d",
   "metadata": {},
   "source": [
    "### Introduction\n",
    "\n",
    "LangChain is a framework for developing applications powered by language models. It enables applications that:\n",
    "\n",
    "- Are context-aware: connect a language model to sources of context (prompt instructions, few shot examples, content to ground its response in, etc.)\n",
    "\n",
    "- Reason: rely on a language model to reason (about how to answer based on provided context, what actions to take, etc.)"
   ]
  },
  {
   "cell_type": "markdown",
   "id": "e29231e2",
   "metadata": {
    "id": "e29231e2"
   },
   "source": [
    "### LLM Models (Wrappers): Cohere\n",
    "\n",
    "https://python.langchain.com/docs/integrations/llms/cohere\n",
    "\n",
    "Cohere is a Canadian startup that provides natural language processing models that help companies improve human-machine interactions.\n",
    "\n",
    "- Founded in 2020\n",
    "- Based in Toronto, Canada "
   ]
  },
  {
   "cell_type": "markdown",
   "id": "869d5b42-233d-45af-95c5-e2c0413b4015",
   "metadata": {},
   "source": [
    "#### Setting up the LLM"
   ]
  },
  {
   "cell_type": "code",
   "execution_count": 3,
   "id": "8d37cc56",
   "metadata": {
    "id": "8d37cc56",
    "outputId": "0ce7f40e-3a0b-48f7-9bad-fd5b4fc91abe"
   },
   "outputs": [
    {
     "name": "stdout",
     "output_type": "stream",
     "text": [
      "\u001b[1mCohere\u001b[0m\n",
      "Params: {'model': None, 'max_tokens': 512, 'temperature': 0.7, 'k': 0, 'p': 1, 'frequency_penalty': 0.0, 'presence_penalty': 0.0, 'truncate': None}\n"
     ]
    }
   ],
   "source": [
    "from langchain.llms import Cohere\n",
    "\n",
    "# Create Cohere LLM instance with parameters\n",
    "llm = Cohere(\n",
    "            # A non-negative float that tunes the degree of randomness in generation.\n",
    "            # Higher values give more diverse, creative responses\n",
    "            # Lower values give more focused, deterministic responses\n",
    "            temperature=0.7, \n",
    "            # The maximum number of tokens to generate in the response\n",
    "            max_tokens=512, \n",
    "            cohere_api_key=COHERE_API_KEY)\n",
    "print(llm)"
   ]
  },
  {
   "cell_type": "markdown",
   "id": "2538e0f1-f723-439d-82ce-fb9908cda59e",
   "metadata": {},
   "source": [
    "#### First try - test Cohere"
   ]
  },
  {
   "cell_type": "code",
   "execution_count": 5,
   "id": "5d355809",
   "metadata": {
    "id": "5d355809",
    "outputId": "d4362c8b-be35-43e2-81f9-8dfd9f4711b6"
   },
   "outputs": [
    {
     "name": "stdout",
     "output_type": "stream",
     "text": [
      " 5G networks deliver faster speeds and lower latency through advanced technologies like OFDM, delivering higher data rates and greater reliability, enabling a new era of connectivity. \n"
     ]
    }
   ],
   "source": [
    "# Generate response from LLM by invoking it \n",
    "output = llm.invoke('explain 5G networks in one sentence')\n",
    "print(output)"
   ]
  },
  {
   "cell_type": "code",
   "execution_count": 6,
   "id": "e29c5e84",
   "metadata": {
    "id": "e29c5e84",
    "outputId": "4029edf6-7c35-4a06-dda7-e6093f356929"
   },
   "outputs": [
    {
     "name": "stderr",
     "output_type": "stream",
     "text": [
      "C:\\Users\\najib\\OneDrive\\Bureau\\M2 - Dauphine\\Workshop-AI\\kadev\\Lib\\site-packages\\tqdm\\auto.py:21: TqdmWarning: IProgress not found. Please update jupyter and ipywidgets. See https://ipywidgets.readthedocs.io/en/stable/user_install.html\n",
      "  from .autonotebook import tqdm as notebook_tqdm\n"
     ]
    },
    {
     "name": "stdout",
     "output_type": "stream",
     "text": [
      "8\n"
     ]
    }
   ],
   "source": [
    "# Pass prompt to LLM's get_num_tokens method\n",
    "num_tokens = llm.get_num_tokens('explain 5G networks in one sentence')\n",
    "\n",
    "# Print number of tokens in the tokenized prompt.\n",
    "print(num_tokens)"
   ]
  },
  {
   "cell_type": "code",
   "execution_count": 7,
   "id": "b98fd88a",
   "metadata": {
    "id": "b98fd88a",
    "outputId": "9b1d4381-af93-4bf7-98cb-2a992155af78"
   },
   "outputs": [
    {
     "name": "stdout",
     "output_type": "stream",
     "text": [
      "[[Generation(text=' The European Union (EU) is a political and economic union of 27 member states located primarily in Europe. The EU was established on 1 November 1993, when the Treaty of Maastricht came into force, though its origins can be traced back to the aftermath of World War II and the 1951 Treaty of Paris. \\n\\nThe Treaty of Maastricht laid the foundations for the EU and established key elements such as the single market, the European Parliament, and the European Commission. Since then, the EU has grown and expanded, adding new member states and integrating more policies and initiatives over the years. \\n\\nThe EU continues to evolve and address new challenges and opportunities, striving for peace, prosperity, and solidarity among its member states and their citizens. ')], [Generation(text=\" The area of a typical room is calculated by multiplying the length by the width, assuming both length and width are perpendicular to each other. \\n\\nThis formula can be expressed as follows:\\nArea = Length × Width\\n\\nFor example, if your room measures 10 meters in length and 5 meters in width, the area of the room would be 50 square meters. You simply multiply the 10 meters by 5 meters to get this area value. \\n\\nDo keep in mind that the shape of the room can sometimes affect the calculation if there are non-right angles or irregular features, so it's important to be mindful of that when calculating area. \\n\\nIf you have a room with unusual dimensions or angles, you may want to break down the room into smaller sections and calculate the area of each section before adding them together to find the overall area. \\n\\nPlease note that the units of measurement matter when calculating area. Ensure that you're using a consistent unit of measurement for both length and width, whether it's in centimeters, meters, feet, or any other unit. \\n\\nIf you have a room with unconventional angles or features, you might want to consider breaking it down into smaller sections and calculating the area of each individual section before summing them up to find the total area of the room. \\n\\nIf you provide me with the specific dimensions, I can assist you in calculating the area of the room if it has any unique aspects or features. \")]]\n"
     ]
    }
   ],
   "source": [
    "# Prompt LLM with two questions \n",
    "prompts = ['What is the date of the European Union creation.', \n",
    "           'What is the formula for the area of a room?']\n",
    "\n",
    "# Generate responses to prompts\n",
    "# In this example, we can't use invoke() -> we don't have a single prompt\n",
    "output = llm.generate(prompts)  \n",
    "\n",
    "# Print list of generated responses\n",
    "print(output.generations)"
   ]
  },
  {
   "cell_type": "markdown",
   "id": "8f8339a9-55f8-4c33-807d-cd66bf38882a",
   "metadata": {},
   "source": [
    "#### Example in order to extract the answer of the  first question"
   ]
  },
  {
   "cell_type": "code",
   "execution_count": 8,
   "id": "e0725e38",
   "metadata": {
    "id": "e0725e38",
    "outputId": "cb53ba44-16ef-4011-a757-bd5770cce2cc"
   },
   "outputs": [
    {
     "name": "stdout",
     "output_type": "stream",
     "text": [
      " The European Union (EU) is a political and economic union of 27 member states located primarily in Europe. The EU was established on 1 November 1993, when the Treaty of Maastricht came into force, though its origins can be traced back to the aftermath of World War II and the 1951 Treaty of Paris. \n",
      "\n",
      "The Treaty of Maastricht laid the foundations for the EU and established key elements such as the single market, the European Parliament, and the European Commission. Since then, the EU has grown and expanded, adding new member states and integrating more policies and initiatives over the years. \n",
      "\n",
      "The EU continues to evolve and address new challenges and opportunities, striving for peace, prosperity, and solidarity among its member states and their citizens. \n"
     ]
    }
   ],
   "source": [
    "print(output.generations[0][0].text)"
   ]
  },
  {
   "cell_type": "markdown",
   "id": "4b42ee2d-f74b-40aa-8e42-07d417090f92",
   "metadata": {
    "id": "7703b86d",
    "outputId": "74a7c223-0098-460c-c333-37a5925b42f6"
   },
   "source": [
    "#### understand the difference between invoke() and generate() - check here"
   ]
  },
  {
   "cell_type": "markdown",
   "id": "39444a1c-7fd3-4d7b-bbe4-2f8bbdca259e",
   "metadata": {},
   "source": [
    "https://chat.langchain.com/  \n",
    "https://python.langchain.com/docs/get_started/introduction\n",
    "https://api.python.langchain.com/en/latest/langchain_api_reference.html"
   ]
  },
  {
   "cell_type": "markdown",
   "id": "c20ee709",
   "metadata": {
    "id": "c20ee709"
   },
   "source": [
    "## Deep dive into LangChain "
   ]
  },
  {
   "cell_type": "markdown",
   "id": "6d3ad29b",
   "metadata": {
    "id": "6d3ad29b"
   },
   "source": [
    "### Prompt Templates\n",
    "\n",
    "https://python.langchain.com/docs/modules/model_io/prompts/quick_start"
   ]
  },
  {
   "cell_type": "code",
   "execution_count": 11,
   "id": "612ed8a8",
   "metadata": {
    "id": "612ed8a8",
    "outputId": "7cf93377-faea-47c8-a86e-d23de5591459"
   },
   "outputs": [
    {
     "name": "stdout",
     "output_type": "stream",
     "text": [
      "input_variables=['concept', 'language'] template='You are an experienced mathematician professor.\\nWrite a few sentences about the following mathematical {concept} in {language}.'\n"
     ]
    }
   ],
   "source": [
    "from langchain import PromptTemplate\n",
    "\n",
    "# Define template with input variables in braces\n",
    "template = '''You are an experienced mathematician professor.\n",
    "Write a few sentences about the following mathematical {concept} in {language}.'''\n",
    "\n",
    "# Create PromptTemplate object with input variables\n",
    "prompt = PromptTemplate(\n",
    "    input_variables=['concept', 'language'], # list of input variable names\n",
    "    template=template # template string\n",
    ")\n",
    "\n",
    "print(prompt)"
   ]
  },
  {
   "cell_type": "code",
   "execution_count": 12,
   "id": "b28accc9",
   "metadata": {
    "id": "b28accc9",
    "outputId": "9a33f6f3-5b1c-4688-b5c9-51f1419ce176"
   },
   "outputs": [
    {
     "name": "stdout",
     "output_type": "stream",
     "text": [
      "\u001b[1mCohere\u001b[0m\n",
      "Params: {'model': None, 'max_tokens': 512, 'temperature': 0.7, 'k': 0, 'p': 1, 'frequency_penalty': 0.0, 'presence_penalty': 0.0, 'truncate': None}\n",
      " The Pythagorean theorem, a key rule in geometry, states that the square of the hypotenuse's side of a right-angled triangle equals the sum of the squares of the other two sides. The short sides, commonly known as a and b, and the hypotenuse, commonly known as c, are correlated in this way by the formula c2 = a2 + b2. Deustch bin ich nicht so gut, aber ich kann Ihnen eine Übersetzung für die für Sie relevanten Informationen bereithalten. \n",
      "\n",
      "This theorem plays a fundamental role in providing the relationships between the sides of a right-angled triangle, enabling us to determine their lengths, as well as in numerous applications in science and engineering. Mathematical formulas and proofs are complex in nature, and while I am fluent in Spanish, translating this theorem statement is not accurate. \n",
      "\n",
      "Es un sustituto fundamental para las relaciones entre los lados de un triángulo rectángulo y sirve como una herramienta para determinar sus longitudes.\n"
     ]
    }
   ],
   "source": [
    "from langchain.llms import Cohere\n",
    "\n",
    "# Create Cohere LLM instance with parameters\n",
    "llm = Cohere(temperature=0.7, max_tokens=512, cohere_api_key=COHERE_API_KEY)\n",
    "print(llm)\n",
    "\n",
    "# Format prompt template with input values \n",
    "output = llm(prompt.format(concept='Pythagorean theorem', language='Spanish'))\n",
    "print(output)"
   ]
  },
  {
   "cell_type": "markdown",
   "id": "207b22ac-3f0b-4128-8e55-ab5f99359bb9",
   "metadata": {},
   "source": [
    "### Learn about Chains"
   ]
  },
  {
   "cell_type": "markdown",
   "id": "5bfd00f0-afb9-4a64-8788-5d9f0f68306d",
   "metadata": {},
   "source": [
    "Resources :\n",
    "\n",
    "https://python.langchain.com/docs/modules/chains  \n",
    "https://chat.langchain.com/"
   ]
  },
  {
   "cell_type": "markdown",
   "id": "025d9b84",
   "metadata": {
    "id": "025d9b84"
   },
   "source": [
    "#### Simple Chains"
   ]
  },
  {
   "cell_type": "code",
   "execution_count": 13,
   "id": "fd1e5278",
   "metadata": {
    "id": "fd1e5278"
   },
   "outputs": [
    {
     "name": "stdout",
     "output_type": "stream",
     "text": [
      "{'concept': 'Pythagorean theorem', 'language': 'Spanish', 'text': 'El teorema de Pitágoras es un resultado fundamental en geometría euclidiana. Afirma que en un triángulo rectángulo, el cuadrado de la longitud del lado hipoténusa es igual a la suma de los cuadrados de los otros dos lados. Es decir, para los lados a, b y c, se cumple que: c^2 = a^2 + b^2. Este teorema tiene numerosas aplicaciones en matemáticas y en la vida cotidiana, ya que permite calcular distancias y dimensiones de manera práctica y rápida. Es una herramienta valiosa en campos como la construcción, la ingeniería y la física.\\n\\nEl teorema lleva el nombre del matemático griego Pitágoras, quien vivió en el siglo V a.C. y fue una figura destacada en el desarrollo de la matemática antigua. La demostración de este teorema se puede realizar mediante diferentes métodos, lo que lo convierte en un tema fascinante de estudio en la teoría de números.'}\n"
     ]
    }
   ],
   "source": [
    "from langchain.chat_models import ChatCohere\n",
    "from langchain import PromptTemplate\n",
    "from langchain.chains import LLMChain\n",
    "\n",
    "# Create ChatCohere LLM instance\n",
    "llm = ChatCohere(temperature=0.5, cohere_api_key=COHERE_API_KEY)\n",
    "\n",
    "# Define template string \n",
    "template = '''You are an experienced mathematician professor.\n",
    "Write a few sentences about the following mathematical {concept} in {language}.'''\n",
    "\n",
    "# Create PromptTemplate \n",
    "prompt = PromptTemplate(\n",
    "    input_variables=['concept', 'language'],\n",
    "    template=template\n",
    ")\n",
    "\n",
    "# Create LLMChain with llm and prompt\n",
    "chain = LLMChain(llm=llm, prompt=prompt)\n",
    "\n",
    "# Run chain with input values\n",
    "output = chain.invoke({'concept': 'Pythagorean theorem', 'language': 'Spanish'})\n",
    "print(output)"
   ]
  },
  {
   "cell_type": "markdown",
   "id": "f283cc13",
   "metadata": {
    "id": "f283cc13"
   },
   "source": [
    "#### Sequential Chains"
   ]
  },
  {
   "cell_type": "code",
   "execution_count": 14,
   "id": "9d68115d",
   "metadata": {
    "id": "9d68115d",
    "outputId": "2aa75fcc-88bb-4972-c9dc-0eec0f0b7d07",
    "scrolled": true
   },
   "outputs": [
    {
     "name": "stderr",
     "output_type": "stream",
     "text": [
      "C:\\Users\\najib\\OneDrive\\Bureau\\M2 - Dauphine\\Workshop-AI\\kadev\\Lib\\site-packages\\langchain_core\\_api\\deprecation.py:117: LangChainDeprecationWarning: The function `run` was deprecated in LangChain 0.1.0 and will be removed in 0.2.0. Use invoke instead.\n",
      "  warn_deprecated(\n"
     ]
    },
    {
     "name": "stdout",
     "output_type": "stream",
     "text": [
      "\n",
      "\n",
      "\u001b[1m> Entering new SimpleSequentialChain chain...\u001b[0m\n",
      "\u001b[36;1m\u001b[1;3m The concept of softmax is a probabilistic interpretation of a certain type of activation function. \n",
      "\n",
      "The function returns probabilities that sum up to 1. It is commonly used in multi-class classification models to predict the likelihood of a particular instance belonging to one of the predefined classes. \n",
      "\n",
      "Here's an implementation of the softmax function in Python:\n",
      "```python\n",
      "import math\n",
      "\n",
      "def softmax(z):\n",
      "    e_x = math.exp(z - math.max(z))\n",
      "    return e_x / e_x.sum() if e_x.sum() > 0 else e_x\n",
      "```\n",
      "This function takes a 2D tensor (matrix) of real numbers as input, expected to be downward biased (i.e., the values are typically between 0 and 1). \n",
      "\n",
      "It calculates the exponential of the input tensor and normalizes it row-wise such that the values sum up to 1. \n",
      "\n",
      "If the sum is 0 (meaning there are no probabilities predicted for a particular class), the function will also return such a blank prediction to avoid division by zero. \n",
      "\n",
      "You can use this function to predict class probabilities for a given input, for example:\n",
      "```python\n",
      "probs = softmax([0.9, 0.05, 0.05])\n",
      "print(probs)\n",
      "``` \n",
      "\n",
      "This will output:\n",
      "```\n",
      "[0.9805804  0.02304077 0.02304077]\n",
      "``` \n",
      "\n",
      "This means that the model predicts 80.96% probability for the first class, and 19.04% is divided between the other two classes. \n",
      "\n",
      "Be mindful that this is the basic implementation of the softmax function, and in deep learning frameworks, this process is often automated within the framework's API to match the architecture of the model you are designing. \u001b[0m\n",
      "\u001b[33;1m\u001b[1;3mThe provided Python code defines a function called softmax, which is designed to take a 2D tensor (or matrix) of real numbers as input. This function has a probabilistic interpretation and is commonly used in multi-class classification tasks.\n",
      "\n",
      "Let's break down the function and its behavior:\n",
      "1. **Importing Required Module**: The function starts by importing the `math` module, which is required to access mathematical functions like exponentiation (`exp`) and finding the maximum value (`max`).\n",
      "\n",
      "2. **Defining the softmax Function**:\n",
      "   - The `softmax` function takes a single argument `z`, which is expected to be a 2D tensor. Typically, this would contain pre-computed scores or logits for different classes.\n",
      "\n",
      "   ```python\n",
      "   def softmax(z):\n",
      "   ```\n",
      "\n",
      "3. **Computing the Exponential Terms**:\n",
      "   - The function first computes the exponential of each element in the input tensor, but with a twist. It first finds the maximum value in the tensor (`math.max(z)`), and then subtracts this maximum value from each element of the tensor. This step ensures that the exponential function doesn't blow up and helps in numerical stability.\n",
      "\n",
      "   ```python\n",
      "   e_x = math.exp(z - math.max(z))\n",
      "   ```\n",
      "\n",
      "4. **Normalizing the Exponential Terms**:\n",
      "   - The function then takes the exponential terms computed in the previous step and normalizes them row-wise. This means that for each row (or instance), the values are scaled such that they sum up to 1.\n",
      "\n",
      "   - The normalization step involves dividing each element of the tensor by the sum of all elements in that row.\n",
      "\n",
      "   ```python\n",
      "   return e_x / e_x.sum() if e_x.sum() > 0 else e_x\n",
      "   ```\n",
      "\n",
      "   - The condition `e_x.sum() > 0` checks if the sum of exponential terms is greater than zero. This is important to avoid division by zero, and in the case where the sum is zero, it simply returns the unnormalized exponential terms.\n",
      "\n",
      "5. **Using the softmax Function**:\n",
      "   - You can use this function to obtain class probabilities for a given input tensor. In the provided example, the input tensor is `[0.9, 0.05, 0.05]`, which seems to represent logits or scores for three different classes.\n",
      "\n",
      "   - After applying the `softmax` function, the output tensor is `[0.9805804, 0.02304077, 0.02304077]`.\n",
      "\n",
      "6. **Interpretation**:\n",
      "   - The output tensor represents the probabilities of each class. In this case, the model predicts the first class with a probability of approximately 80.96%, while the remaining probability (around 19.04%) is split evenly between the other two classes.\n",
      "\n",
      "It's important to note that while this softmax function is a useful and common operation in machine learning, especially for multi-class classification, it's often implemented and automated within deep learning frameworks. When building neural network models, you'd typically use the softmax function as part of the model architecture, and the framework would handle its implementation for you. \n",
      "\n",
      "The manual implementation provided here gives you a closer look at how the softmax function works under the hood and allows you to understand the mathematical operations involved.\u001b[0m\n",
      "\n",
      "\u001b[1m> Finished chain.\u001b[0m\n"
     ]
    }
   ],
   "source": [
    "from langchain.chat_models import ChatCohere\n",
    "from langchain.llms import Cohere\n",
    "from langchain import PromptTemplate\n",
    "from langchain.chains import LLMChain, SimpleSequentialChain\n",
    "\n",
    "# Create Cohere LLM instance with parameters\n",
    "llm1 = Cohere(temperature=0.2, max_tokens=512, cohere_api_key=COHERE_API_KEY)\n",
    "\n",
    "# Create first prompt template\n",
    "prompt1 = PromptTemplate(\n",
    "    input_variables=['concept'],\n",
    "    template='''You are an experienced scientist and Python programmer.\n",
    "    Write a function that implements the concept of {concept}.'''\n",
    ")\n",
    "\n",
    "# Create first LLMChain with llm1 and prompt1\n",
    "chain1 = LLMChain(llm=llm1, prompt=prompt1)\n",
    "\n",
    "\n",
    "# Create ChatCohere LLM instance\n",
    "llm2 = ChatCohere(temperature=0.9, cohere_api_key=COHERE_API_KEY)\n",
    "\n",
    "# Create second prompt template\n",
    "prompt2 = PromptTemplate(\n",
    "    input_variables=['function'],\n",
    "    template='Given the Python function {function}, describe it as detailed as possible.'\n",
    ")\n",
    "\n",
    "# Create second LLMChain with llm2 and prompt2\n",
    "chain2 = LLMChain(llm=llm2, prompt=prompt2)\n",
    "\n",
    "# Create SequentialChain using the two chains \n",
    "# You can check what verbose means with :\n",
    "# https://api.python.langchain.com/en/latest/chains/langchain.chains.sequential.SimpleSequentialChain.html?highlight=simplesequentialchain%20verbose\n",
    "overall_chain = SimpleSequentialChain(chains=[chain1, chain2], verbose=True)\n",
    "\n",
    "# Run the chain with the input 'softmax'\n",
    "output = overall_chain.run('softmax')"
   ]
  },
  {
   "cell_type": "markdown",
   "id": "ed3a9c39",
   "metadata": {
    "id": "ed3a9c39"
   },
   "source": [
    "#### LangChain Agents"
   ]
  },
  {
   "cell_type": "code",
   "execution_count": 15,
   "id": "115e2fe3",
   "metadata": {
    "id": "115e2fe3",
    "outputId": "e7b894b6-3eee-41b4-faf3-171d2aed2f42"
   },
   "outputs": [
    {
     "name": "stdout",
     "output_type": "stream",
     "text": [
      "\n",
      "\n",
      "\u001b[1m> Entering new AgentExecutor chain...\u001b[0m\n"
     ]
    },
    {
     "name": "stderr",
     "output_type": "stream",
     "text": [
      "Python REPL can execute arbitrary code. Use with caution.\n"
     ]
    },
    {
     "name": "stdout",
     "output_type": "stream",
     "text": [
      "\u001b[32;1m\u001b[1;3m This is a simple single variable linear equation, it should be easy to solve using python. \n",
      "\n",
      "Action: Python_REPL\n",
      "Action Input: ```python\n",
      "x = 2157625176\n",
      "result = x**3 + 3*x**2 - 5\n",
      "print(result)\n",
      "```\n",
      "\u001b[0m\n",
      "Observation: \u001b[36;1m\u001b[1;3m10044492609842253579108544699\n",
      "\u001b[0m\n",
      "Thought:\u001b[32;1m\u001b[1;3m The answer is 10044492609842253579108544699. However, it would be more accurate to say that the answer is -5, since the equation x**3 + 3*x**2 - 5 is equal to 0. \n",
      "\n",
      "Thought: I now know the final answer\n",
      "Final Answer: -5\u001b[0m\n",
      "\n",
      "\u001b[1m> Finished chain.\u001b[0m\n"
     ]
    },
    {
     "data": {
      "text/plain": [
       "'-5'"
      ]
     },
     "execution_count": 15,
     "metadata": {},
     "output_type": "execute_result"
    }
   ],
   "source": [
    "from langchain_experimental.agents.agent_toolkits import create_python_agent\n",
    "from langchain_experimental.tools.python.tool import PythonREPLTool\n",
    "from langchain.llms import Cohere\n",
    "\n",
    "# Create Cohere LLM instance\n",
    "llm = Cohere(temperature=0, cohere_api_key=COHERE_API_KEY)\n",
    "\n",
    "# Create agent by passing LLM, tool (what is it !?)\n",
    "# You can check what verbose means with :\n",
    "# https://api.python.langchain.com/en/latest/chains/langchain.chains.sequential.SimpleSequentialChain.html?highlight=simplesequentialchain%20verbose\n",
    "agent_executor = create_python_agent(\n",
    "    llm=llm,\n",
    "    tool=PythonREPLTool(),\n",
    "    verbose=True\n",
    ")\n",
    "\n",
    "# Run agent with input command \n",
    "agent_executor.run('what is the answer to x**3 + 3*x**2 - 5 with x = 2157625176 ?')"
   ]
  },
  {
   "cell_type": "code",
   "execution_count": null,
   "id": "91beb878-8f4a-405d-87f0-7a7dedf8c217",
   "metadata": {},
   "outputs": [],
   "source": []
  }
 ],
 "metadata": {
  "colab": {
   "provenance": []
  },
  "kernelspec": {
   "display_name": "Python 3 (ipykernel)",
   "language": "python",
   "name": "python3"
  },
  "language_info": {
   "codemirror_mode": {
    "name": "ipython",
    "version": 3
   },
   "file_extension": ".py",
   "mimetype": "text/x-python",
   "name": "python",
   "nbconvert_exporter": "python",
   "pygments_lexer": "ipython3",
   "version": "3.12.1"
  }
 },
 "nbformat": 4,
 "nbformat_minor": 5
}
